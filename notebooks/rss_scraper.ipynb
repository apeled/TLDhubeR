{
 "cells": [
  {
   "cell_type": "code",
   "execution_count": 2,
   "metadata": {},
   "outputs": [
    {
     "name": "stdout",
     "output_type": "stream",
     "text": [
      "/Users/markrd/.zshenv:.:1: no such file or directory: /Users/markrd/.cargo/env\n",
      "/Users/markrd/.zshenv:3: no such user or named directory: user\n"
     ]
    },
    {
     "name": "stdout",
     "output_type": "stream",
     "text": [
      "Requirement already satisfied: feedparser in /Volumes/T7/anaconda3/envs/cloneVoice/lib/python3.12/site-packages (6.0.11)\n",
      "Requirement already satisfied: sgmllib3k in /Volumes/T7/anaconda3/envs/cloneVoice/lib/python3.12/site-packages (from feedparser) (1.0.0)\n",
      "Note: you may need to restart the kernel to use updated packages.\n",
      "/Users/markrd/.zshenv:.:1: no such file or directory: /Users/markrd/.cargo/env\n",
      "/Users/markrd/.zshenv:3: no such user or named directory: user\n",
      "Collecting pandas\n",
      "  Downloading pandas-2.2.0-cp312-cp312-macosx_10_9_x86_64.whl.metadata (19 kB)\n",
      "Collecting numpy<2,>=1.26.0 (from pandas)\n",
      "  Downloading numpy-1.26.4-cp312-cp312-macosx_10_9_x86_64.whl.metadata (61 kB)\n",
      "\u001b[2K     \u001b[90m━━━━━━━━━━━━━━━━━━━━━━━━━━━━━━━━━━━━━━━\u001b[0m \u001b[32m61.1/61.1 kB\u001b[0m \u001b[31m529.9 kB/s\u001b[0m eta \u001b[36m0:00:00\u001b[0m \u001b[36m0:00:01\u001b[0m\n",
      "\u001b[?25hRequirement already satisfied: python-dateutil>=2.8.2 in /Volumes/T7/anaconda3/envs/cloneVoice/lib/python3.12/site-packages (from pandas) (2.8.2)\n",
      "Collecting pytz>=2020.1 (from pandas)\n",
      "  Downloading pytz-2024.1-py2.py3-none-any.whl.metadata (22 kB)\n",
      "Collecting tzdata>=2022.7 (from pandas)\n",
      "  Downloading tzdata-2024.1-py2.py3-none-any.whl.metadata (1.4 kB)\n",
      "Requirement already satisfied: six>=1.5 in /Volumes/T7/anaconda3/envs/cloneVoice/lib/python3.12/site-packages (from python-dateutil>=2.8.2->pandas) (1.16.0)\n",
      "Downloading pandas-2.2.0-cp312-cp312-macosx_10_9_x86_64.whl (12.5 MB)\n",
      "\u001b[2K   \u001b[90m━━━━━━━━━━━━━━━━━━━━━━━━━━━━━━━━━━━━━━━━\u001b[0m \u001b[32m12.5/12.5 MB\u001b[0m \u001b[31m3.4 MB/s\u001b[0m eta \u001b[36m0:00:00\u001b[0m00:01\u001b[0m00:01\u001b[0m\n",
      "\u001b[?25hDownloading numpy-1.26.4-cp312-cp312-macosx_10_9_x86_64.whl (20.3 MB)\n",
      "\u001b[2K   \u001b[90m━━━━━━━━━━━━━━━━━━━━━━━━━━━━━━━━━━━━━━━━\u001b[0m \u001b[32m20.3/20.3 MB\u001b[0m \u001b[31m2.1 MB/s\u001b[0m eta \u001b[36m0:00:00\u001b[0m00:01\u001b[0m00:01\u001b[0m\n",
      "\u001b[?25hDownloading pytz-2024.1-py2.py3-none-any.whl (505 kB)\n",
      "\u001b[2K   \u001b[90m━━━━━━━━━━━━━━━━━━━━━━━━━━━━━━━━━━━━━━━━\u001b[0m \u001b[32m505.5/505.5 kB\u001b[0m \u001b[31m2.4 MB/s\u001b[0m eta \u001b[36m0:00:00\u001b[0m:00:01\u001b[0m00:01\u001b[0m\n",
      "\u001b[?25hDownloading tzdata-2024.1-py2.py3-none-any.whl (345 kB)\n",
      "\u001b[2K   \u001b[90m━━━━━━━━━━━━━━━━━━━━━━━━━━━━━━━━━━━━━━━━\u001b[0m \u001b[32m345.4/345.4 kB\u001b[0m \u001b[31m2.9 MB/s\u001b[0m eta \u001b[36m0:00:00\u001b[0m:00:01\u001b[0m\n",
      "\u001b[?25hInstalling collected packages: pytz, tzdata, numpy, pandas\n",
      "Successfully installed numpy pandas pytz tzdata\n"
     ]
    }
   ],
   "source": [
    "%pip install feedparser\n",
    "!pip install pandas"
   ]
  },
  {
   "cell_type": "code",
   "execution_count": 3,
   "metadata": {},
   "outputs": [
    {
     "ename": "ModuleNotFoundError",
     "evalue": "No module named 'pandas'",
     "output_type": "error",
     "traceback": [
      "\u001b[0;31m---------------------------------------------------------------------------\u001b[0m",
      "\u001b[0;31mModuleNotFoundError\u001b[0m                       Traceback (most recent call last)",
      "Cell \u001b[0;32mIn[3], line 2\u001b[0m\n\u001b[1;32m      1\u001b[0m \u001b[38;5;28;01mimport\u001b[39;00m \u001b[38;5;21;01mfeedparser\u001b[39;00m\n\u001b[0;32m----> 2\u001b[0m \u001b[38;5;28;01mimport\u001b[39;00m \u001b[38;5;21;01mpandas\u001b[39;00m \u001b[38;5;28;01mas\u001b[39;00m \u001b[38;5;21;01mpd\u001b[39;00m\n",
      "\u001b[0;31mModuleNotFoundError\u001b[0m: No module named 'pandas'"
     ]
    }
   ],
   "source": [
    "\n",
    "import feedparser\n",
    "import pandas as pd"
   ]
  },
  {
   "cell_type": "code",
   "execution_count": null,
   "metadata": {},
   "outputs": [
    {
     "data": {
      "text/html": [
       "<div>\n",
       "<style scoped>\n",
       "    .dataframe tbody tr th:only-of-type {\n",
       "        vertical-align: middle;\n",
       "    }\n",
       "\n",
       "    .dataframe tbody tr th {\n",
       "        vertical-align: top;\n",
       "    }\n",
       "\n",
       "    .dataframe thead th {\n",
       "        text-align: right;\n",
       "    }\n",
       "</style>\n",
       "<table border=\"1\" class=\"dataframe\">\n",
       "  <thead>\n",
       "    <tr style=\"text-align: right;\">\n",
       "      <th></th>\n",
       "      <th>Title</th>\n",
       "      <th>Publication Date</th>\n",
       "      <th>Summary</th>\n",
       "      <th>Enclosure Link</th>\n",
       "    </tr>\n",
       "  </thead>\n",
       "  <tbody>\n",
       "    <tr>\n",
       "      <th>0</th>\n",
       "      <td>AMA #15: Fluoride Benefits/Risks &amp; Vagus Nerve...</td>\n",
       "      <td>Thu, 01 Feb 2024 01:20:00 -0000</td>\n",
       "      <td>Welcome to a preview of the 15th Ask Me Anythi...</td>\n",
       "      <td>https://www.podtrac.com/pts/redirect.mp3/pdst....</td>\n",
       "    </tr>\n",
       "    <tr>\n",
       "      <th>1</th>\n",
       "      <td>Tools to Enhance Working Memory &amp; Attention</td>\n",
       "      <td>Mon, 29 Jan 2024 09:00:00 -0000</td>\n",
       "      <td>In this episode, I discuss working memory, whi...</td>\n",
       "      <td>https://www.podtrac.com/pts/redirect.mp3/pdst....</td>\n",
       "    </tr>\n",
       "    <tr>\n",
       "      <th>2</th>\n",
       "      <td>Journal Club with Dr. Peter Attia | Effects of...</td>\n",
       "      <td>Mon, 22 Jan 2024 09:00:00 -0000</td>\n",
       "      <td>In this journal club episode, my guest is Dr. ...</td>\n",
       "      <td>https://www.podtrac.com/pts/redirect.mp3/pdst....</td>\n",
       "    </tr>\n",
       "    <tr>\n",
       "      <th>3</th>\n",
       "      <td>Dr. Sean Mackey: Tools to Reduce &amp; Manage Pain</td>\n",
       "      <td>Mon, 15 Jan 2024 09:00:00 -0000</td>\n",
       "      <td>In this episode, my guest is Dr. Sean Mackey, ...</td>\n",
       "      <td>https://www.podtrac.com/pts/redirect.mp3/pdst....</td>\n",
       "    </tr>\n",
       "    <tr>\n",
       "      <th>4</th>\n",
       "      <td>How to Prevent &amp; Treat Colds &amp; Flu</td>\n",
       "      <td>Mon, 08 Jan 2024 09:00:00 -0000</td>\n",
       "      <td>In this episode, I explain the biology of the ...</td>\n",
       "      <td>https://www.podtrac.com/pts/redirect.mp3/pdst....</td>\n",
       "    </tr>\n",
       "  </tbody>\n",
       "</table>\n",
       "</div>"
      ],
      "text/plain": [
       "                                               Title  \\\n",
       "0  AMA #15: Fluoride Benefits/Risks & Vagus Nerve...   \n",
       "1        Tools to Enhance Working Memory & Attention   \n",
       "2  Journal Club with Dr. Peter Attia | Effects of...   \n",
       "3     Dr. Sean Mackey: Tools to Reduce & Manage Pain   \n",
       "4                 How to Prevent & Treat Colds & Flu   \n",
       "\n",
       "                  Publication Date  \\\n",
       "0  Thu, 01 Feb 2024 01:20:00 -0000   \n",
       "1  Mon, 29 Jan 2024 09:00:00 -0000   \n",
       "2  Mon, 22 Jan 2024 09:00:00 -0000   \n",
       "3  Mon, 15 Jan 2024 09:00:00 -0000   \n",
       "4  Mon, 08 Jan 2024 09:00:00 -0000   \n",
       "\n",
       "                                             Summary  \\\n",
       "0  Welcome to a preview of the 15th Ask Me Anythi...   \n",
       "1  In this episode, I discuss working memory, whi...   \n",
       "2  In this journal club episode, my guest is Dr. ...   \n",
       "3  In this episode, my guest is Dr. Sean Mackey, ...   \n",
       "4  In this episode, I explain the biology of the ...   \n",
       "\n",
       "                                      Enclosure Link  \n",
       "0  https://www.podtrac.com/pts/redirect.mp3/pdst....  \n",
       "1  https://www.podtrac.com/pts/redirect.mp3/pdst....  \n",
       "2  https://www.podtrac.com/pts/redirect.mp3/pdst....  \n",
       "3  https://www.podtrac.com/pts/redirect.mp3/pdst....  \n",
       "4  https://www.podtrac.com/pts/redirect.mp3/pdst....  "
      ]
     },
     "execution_count": 3,
     "metadata": {},
     "output_type": "execute_result"
    }
   ],
   "source": [
    "def scrape_rss_data(feed_url):\n",
    "    # Parse the RSS feed\n",
    "    feed = feedparser.parse(feed_url)\n",
    "\n",
    "    # Check if the feed was parsed successfully\n",
    "    if feed.bozo == 0:\n",
    "        data = []\n",
    "        # Extract relevant data from each entry\n",
    "        for entry in feed.entries:\n",
    "            summary = entry.get('summary', '')\n",
    "            pubdate = entry.get('published', '')\n",
    "            title = entry.get('title', '')\n",
    "            enclosure_link = entry.enclosures[0]['href'] if entry.get('enclosures') else None\n",
    "            data.append({'Title': title, 'Publication Date': pubdate, 'Summary': summary, 'Enclosure Link': enclosure_link})\n",
    "        return pd.DataFrame(data)\n",
    "    else:\n",
    "        print(f\"Error parsing feed: {feed.bozo_exception}\")\n",
    "        return None\n",
    "\n",
    "# Example usage\n",
    "rss_feed_url = \"https://feeds.megaphone.fm/hubermanlab\"\n",
    "df = scrape_rss_data(rss_feed_url)\n",
    "# Display the first few rows of the DataFrame\n",
    "df.head()\n",
    "\n",
    "pd.to_excel(df,'rss.xlsx')"
   ]
  },
  {
   "cell_type": "code",
   "execution_count": null,
   "metadata": {},
   "outputs": [],
   "source": []
  }
 ],
 "metadata": {
  "kernelspec": {
   "display_name": "base",
   "language": "python",
   "name": "python3"
  },
  "language_info": {
   "codemirror_mode": {
    "name": "ipython",
    "version": 3
   },
   "file_extension": ".py",
   "mimetype": "text/x-python",
   "name": "python",
   "nbconvert_exporter": "python",
   "pygments_lexer": "ipython3",
   "version": "3.12.2"
  }
 },
 "nbformat": 4,
 "nbformat_minor": 2
}
