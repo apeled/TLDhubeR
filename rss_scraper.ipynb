{
 "cells": [
  {
   "cell_type": "code",
   "execution_count": 1,
   "metadata": {},
   "outputs": [
    {
     "name": "stdout",
     "output_type": "stream",
     "text": [
      "Collecting feedparser\n",
      "  Obtaining dependency information for feedparser from https://files.pythonhosted.org/packages/7c/d4/8c31aad9cc18f451c49f7f9cfb5799dadffc88177f7917bc90a66459b1d7/feedparser-6.0.11-py3-none-any.whl.metadata\n",
      "  Downloading feedparser-6.0.11-py3-none-any.whl.metadata (2.4 kB)\n",
      "Collecting sgmllib3k (from feedparser)\n",
      "  Downloading sgmllib3k-1.0.0.tar.gz (5.8 kB)\n",
      "  Preparing metadata (setup.py) ... \u001b[?25ldone\n",
      "\u001b[?25hDownloading feedparser-6.0.11-py3-none-any.whl (81 kB)\n",
      "\u001b[2K   \u001b[90m━━━━━━━━━━━━━━━━━━━━━━━━━━━━━━━━━━━━━━━━\u001b[0m \u001b[32m81.3/81.3 kB\u001b[0m \u001b[31m1.6 MB/s\u001b[0m eta \u001b[36m0:00:00\u001b[0ma \u001b[36m0:00:01\u001b[0m\n",
      "\u001b[?25hBuilding wheels for collected packages: sgmllib3k\n",
      "  Building wheel for sgmllib3k (setup.py) ... \u001b[?25ldone\n",
      "\u001b[?25h  Created wheel for sgmllib3k: filename=sgmllib3k-1.0.0-py3-none-any.whl size=6047 sha256=371be8de3ffe268283601f8d716972ad34f05ccd1632f53f49a4922546f90879\n",
      "  Stored in directory: /Users/jakeflynn/Library/Caches/pip/wheels/3b/25/2a/105d6a15df6914f4d15047691c6c28f9052cc1173e40285d03\n",
      "Successfully built sgmllib3k\n",
      "Installing collected packages: sgmllib3k, feedparser\n",
      "Successfully installed feedparser-6.0.11 sgmllib3k-1.0.0\n",
      "Note: you may need to restart the kernel to use updated packages.\n"
     ]
    }
   ],
   "source": [
    "%pip install feedparser"
   ]
  },
  {
   "cell_type": "code",
   "execution_count": 2,
   "metadata": {},
   "outputs": [],
   "source": [
    "import feedparser\n",
    "import pandas as pd"
   ]
  },
  {
   "cell_type": "code",
   "execution_count": 3,
   "metadata": {},
   "outputs": [
    {
     "data": {
      "text/html": [
       "<div>\n",
       "<style scoped>\n",
       "    .dataframe tbody tr th:only-of-type {\n",
       "        vertical-align: middle;\n",
       "    }\n",
       "\n",
       "    .dataframe tbody tr th {\n",
       "        vertical-align: top;\n",
       "    }\n",
       "\n",
       "    .dataframe thead th {\n",
       "        text-align: right;\n",
       "    }\n",
       "</style>\n",
       "<table border=\"1\" class=\"dataframe\">\n",
       "  <thead>\n",
       "    <tr style=\"text-align: right;\">\n",
       "      <th></th>\n",
       "      <th>Title</th>\n",
       "      <th>Publication Date</th>\n",
       "      <th>Summary</th>\n",
       "      <th>Enclosure Link</th>\n",
       "    </tr>\n",
       "  </thead>\n",
       "  <tbody>\n",
       "    <tr>\n",
       "      <th>0</th>\n",
       "      <td>AMA #15: Fluoride Benefits/Risks &amp; Vagus Nerve...</td>\n",
       "      <td>Thu, 01 Feb 2024 01:20:00 -0000</td>\n",
       "      <td>Welcome to a preview of the 15th Ask Me Anythi...</td>\n",
       "      <td>https://www.podtrac.com/pts/redirect.mp3/pdst....</td>\n",
       "    </tr>\n",
       "    <tr>\n",
       "      <th>1</th>\n",
       "      <td>Tools to Enhance Working Memory &amp; Attention</td>\n",
       "      <td>Mon, 29 Jan 2024 09:00:00 -0000</td>\n",
       "      <td>In this episode, I discuss working memory, whi...</td>\n",
       "      <td>https://www.podtrac.com/pts/redirect.mp3/pdst....</td>\n",
       "    </tr>\n",
       "    <tr>\n",
       "      <th>2</th>\n",
       "      <td>Journal Club with Dr. Peter Attia | Effects of...</td>\n",
       "      <td>Mon, 22 Jan 2024 09:00:00 -0000</td>\n",
       "      <td>In this journal club episode, my guest is Dr. ...</td>\n",
       "      <td>https://www.podtrac.com/pts/redirect.mp3/pdst....</td>\n",
       "    </tr>\n",
       "    <tr>\n",
       "      <th>3</th>\n",
       "      <td>Dr. Sean Mackey: Tools to Reduce &amp; Manage Pain</td>\n",
       "      <td>Mon, 15 Jan 2024 09:00:00 -0000</td>\n",
       "      <td>In this episode, my guest is Dr. Sean Mackey, ...</td>\n",
       "      <td>https://www.podtrac.com/pts/redirect.mp3/pdst....</td>\n",
       "    </tr>\n",
       "    <tr>\n",
       "      <th>4</th>\n",
       "      <td>How to Prevent &amp; Treat Colds &amp; Flu</td>\n",
       "      <td>Mon, 08 Jan 2024 09:00:00 -0000</td>\n",
       "      <td>In this episode, I explain the biology of the ...</td>\n",
       "      <td>https://www.podtrac.com/pts/redirect.mp3/pdst....</td>\n",
       "    </tr>\n",
       "  </tbody>\n",
       "</table>\n",
       "</div>"
      ],
      "text/plain": [
       "                                               Title  \\\n",
       "0  AMA #15: Fluoride Benefits/Risks & Vagus Nerve...   \n",
       "1        Tools to Enhance Working Memory & Attention   \n",
       "2  Journal Club with Dr. Peter Attia | Effects of...   \n",
       "3     Dr. Sean Mackey: Tools to Reduce & Manage Pain   \n",
       "4                 How to Prevent & Treat Colds & Flu   \n",
       "\n",
       "                  Publication Date  \\\n",
       "0  Thu, 01 Feb 2024 01:20:00 -0000   \n",
       "1  Mon, 29 Jan 2024 09:00:00 -0000   \n",
       "2  Mon, 22 Jan 2024 09:00:00 -0000   \n",
       "3  Mon, 15 Jan 2024 09:00:00 -0000   \n",
       "4  Mon, 08 Jan 2024 09:00:00 -0000   \n",
       "\n",
       "                                             Summary  \\\n",
       "0  Welcome to a preview of the 15th Ask Me Anythi...   \n",
       "1  In this episode, I discuss working memory, whi...   \n",
       "2  In this journal club episode, my guest is Dr. ...   \n",
       "3  In this episode, my guest is Dr. Sean Mackey, ...   \n",
       "4  In this episode, I explain the biology of the ...   \n",
       "\n",
       "                                      Enclosure Link  \n",
       "0  https://www.podtrac.com/pts/redirect.mp3/pdst....  \n",
       "1  https://www.podtrac.com/pts/redirect.mp3/pdst....  \n",
       "2  https://www.podtrac.com/pts/redirect.mp3/pdst....  \n",
       "3  https://www.podtrac.com/pts/redirect.mp3/pdst....  \n",
       "4  https://www.podtrac.com/pts/redirect.mp3/pdst....  "
      ]
     },
     "execution_count": 3,
     "metadata": {},
     "output_type": "execute_result"
    }
   ],
   "source": [
    "def scrape_rss_data(feed_url):\n",
    "    # Parse the RSS feed\n",
    "    feed = feedparser.parse(feed_url)\n",
    "\n",
    "    # Check if the feed was parsed successfully\n",
    "    if feed.bozo == 0:\n",
    "        data = []\n",
    "        # Extract relevant data from each entry\n",
    "        for entry in feed.entries:\n",
    "            summary = entry.get('summary', '')\n",
    "            pubdate = entry.get('published', '')\n",
    "            title = entry.get('title', '')\n",
    "            enclosure_link = entry.enclosures[0]['href'] if entry.get('enclosures') else None\n",
    "            data.append({'Title': title, 'Publication Date': pubdate, 'Summary': summary, 'Enclosure Link': enclosure_link})\n",
    "        return pd.DataFrame(data)\n",
    "    else:\n",
    "        print(f\"Error parsing feed: {feed.bozo_exception}\")\n",
    "        return None\n",
    "\n",
    "# Example usage\n",
    "rss_feed_url = \"https://feeds.megaphone.fm/hubermanlab\"\n",
    "df = scrape_rss_data(rss_feed_url)\n",
    "# Display the first few rows of the DataFrame\n",
    "df.head()"
   ]
  }
 ],
 "metadata": {
  "kernelspec": {
   "display_name": "base",
   "language": "python",
   "name": "python3"
  },
  "language_info": {
   "codemirror_mode": {
    "name": "ipython",
    "version": 3
   },
   "file_extension": ".py",
   "mimetype": "text/x-python",
   "name": "python",
   "nbconvert_exporter": "python",
   "pygments_lexer": "ipython3",
   "version": "3.11.5"
  }
 },
 "nbformat": 4,
 "nbformat_minor": 2
}
